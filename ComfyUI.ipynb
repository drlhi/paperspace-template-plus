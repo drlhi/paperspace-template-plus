{
 "cells": [
  {
   "cell_type": "markdown",
   "metadata": {},
   "source": [
    "コンテナ:shibashiba2/paperspace-gradient-base-pytorch270:v1.2"
   ]
  },
  {
   "cell_type": "code",
   "execution_count": null,
   "metadata": {
    "execution": {
     "iopub.execute_input": "2025-01-07T06:56:42.326774Z",
     "iopub.status.busy": "2025-01-07T06:56:42.325853Z",
     "iopub.status.idle": "2025-01-07T07:12:39.331861Z",
     "shell.execute_reply": "2025-01-07T07:12:39.331419Z",
     "shell.execute_reply.started": "2025-01-07T06:56:42.326742Z"
    },
    "id": "qfGtMLwLpCr3"
   },
   "outputs": [],
   "source": [
    "#(3) ComfyUI起動\n",
    "# 起動コマンド\n",
    "!pip install comfyui-frontend-package soundfile\n",
    "Args = \"--listen --port 6006 --preview-method auto --fast\"\n",
    "\n",
    "def sd():\n",
    "    import os\n",
    "    from subprocess import call\n",
    "\n",
    "    localurl = \"https://tensorboard-\" + os.environ.get('PAPERSPACE_FQDN', 'localhost')\n",
    "    call(\"sed -i 's@logging.info(\\\"To see the GUI go to: {}://{}:{}\\\".format(scheme, address, port))@print(\\\"\\033[32m\\\\u2714 Connected\\\")\\\\n            print(\\\"\" + localurl + \"\\\")@' /notebooks/ComfyUI/server.py\", shell=True)\n",
    "    os.chdir('/tmp')\n",
    "    print(f\"Local URL: {localurl}\")\n",
    "\n",
    "sd()\n",
    "!python /notebooks/ComfyUI/main.py $Args\n",
    "\n"
   ]
  },
  {
   "cell_type": "code",
   "execution_count": null,
   "metadata": {
    "execution": {
     "iopub.execute_input": "2025-01-07T06:13:16.247557Z",
     "iopub.status.busy": "2025-01-07T06:13:16.247008Z",
     "iopub.status.idle": "2025-01-07T06:13:19.315362Z",
     "shell.execute_reply": "2025-01-07T06:13:19.314832Z",
     "shell.execute_reply.started": "2025-01-07T06:13:16.247538Z"
    },
    "id": "JMVf8COkpK0e"
   },
   "outputs": [],
   "source": [
    "#(1) ComfyUIのダウンロード\n",
    "%cd /notebooks\n",
    "!rm -rf ComfyUI\n",
    "!git clone https://github.com/comfyanonymous/ComfyUI.git\n",
    "!python -m pip install -r ComfyUI/requirements.txt\n"
   ]
  },
  {
   "cell_type": "code",
   "execution_count": null,
   "metadata": {
    "execution": {
     "iopub.execute_input": "2025-01-07T06:42:44.609141Z",
     "iopub.status.busy": "2025-01-07T06:42:44.608563Z",
     "iopub.status.idle": "2025-01-07T06:52:55.620347Z",
     "shell.execute_reply": "2025-01-07T06:52:55.619830Z",
     "shell.execute_reply.started": "2025-01-07T06:42:44.609123Z"
    },
    "id": "rIUmi3RhpQiW"
   },
   "outputs": [],
   "source": [
    "#(2) モデルのダウンロード（ここにダウンロードしたいモデルを追加）\n",
    "#%cd /notebooks/ComfyUI/models/diffusion_models\n",
    "#!wget -nc"
   ]
  },
  {
   "cell_type": "code",
   "execution_count": null,
   "metadata": {
    "execution": {
     "iopub.execute_input": "2025-01-07T06:32:06.152240Z",
     "iopub.status.busy": "2025-01-07T06:32:06.151492Z",
     "iopub.status.idle": "2025-01-07T06:32:17.888115Z",
     "shell.execute_reply": "2025-01-07T06:32:17.887507Z",
     "shell.execute_reply.started": "2025-01-07T06:32:06.152220Z"
    },
    "id": "rIUmi3RhpQiW"
   },
   "outputs": [],
   "source": [
    "#(2) VAEのダウンロード（ここにダウンロードしたいモデルを追加）\n",
    "#%cd /notebooks/ComfyUI/models/vae\n",
    "#!wget -nc\n"
   ]
  },
  {
   "cell_type": "code",
   "execution_count": null,
   "metadata": {
    "execution": {
     "iopub.execute_input": "2024-02-06T12:01:12.389426Z",
     "iopub.status.busy": "2024-02-06T12:01:12.388801Z",
     "iopub.status.idle": "2024-02-06T12:01:15.763647Z",
     "shell.execute_reply": "2024-02-06T12:01:15.762825Z",
     "shell.execute_reply.started": "2024-02-06T12:01:12.389399Z"
    },
    "id": "a3c-0LBjpYXe"
   },
   "outputs": [],
   "source": [
    "#(4) ComfyUIアップデート（アップデートが必要な時のみ実行）\n",
    "%cd /notebooks/ComfyUI\n",
    "!git checkout master\n",
    "!git pull\n"
   ]
  }
 ],
 "metadata": {
  "colab": {
   "private_outputs": true,
   "provenance": []
  },
  "gpuClass": "standard",
  "kernelspec": {
   "display_name": "Python 3 (ipykernel)",
   "language": "python",
   "name": "python3"
  },
  "language_info": {
   "codemirror_mode": {
    "name": "ipython",
    "version": 3
   },
   "file_extension": ".py",
   "mimetype": "text/x-python",
   "name": "python",
   "nbconvert_exporter": "python",
   "pygments_lexer": "ipython3",
   "version": "3.12.7"
  }
 },
 "nbformat": 4,
 "nbformat_minor": 4
}
