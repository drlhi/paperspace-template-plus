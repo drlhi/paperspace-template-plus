{
  "cells": [
    {
      "cell_type": "markdown",
      "metadata": {},
      "source": [
        "コンテナ:shibashiba2/paperspace-gradient-base-pytorch270_py310:v1.0"
      ]
    },
    {
      "cell_type": "code",
      "execution_count": null,
      "metadata": {
        "execution": {
          "iopub.execute_input": "2024-03-08T19:13:51.581416Z",
          "iopub.status.busy": "2024-03-08T19:13:51.580173Z"
        },
        "id": "qfGtMLwLpCr3"
      },
      "outputs": [],
      "source": [
        "#(3) WebUI起動\n",
        "%cd sd-webui-forge-classic\n",
        "!python3.10 launch.py --enable-insecure-extension-access --share --xformers --pin-shared-memory --cuda-malloc --cuda-stream\n"
      ]
    },
    {
      "cell_type": "code",
      "execution_count": null,
      "metadata": {
        "execution": {
          "iopub.execute_input": "2024-03-08T16:58:22.091130Z",
          "iopub.status.busy": "2024-03-08T16:58:22.090523Z",
          "iopub.status.idle": "2024-03-08T16:58:30.052996Z",
          "shell.execute_reply": "2024-03-08T16:58:30.052031Z",
          "shell.execute_reply.started": "2024-03-08T16:58:22.091101Z"
        },
        "id": "JMVf8COkpK0e"
      },
      "outputs": [],
      "source": [
        "#(1) ダウンロード\n",
        "%cd /notebooks\n",
        "!rm -rf sd-webui-forge-classic\n",
        "!git clone https://github.com/Haoming02/sd-webui-forge-classic.git"
      ]
    },
    {
      "cell_type": "code",
      "execution_count": null,
      "metadata": {
        "execution": {
          "iopub.execute_input": "2024-02-02T02:57:57.704153Z",
          "iopub.status.busy": "2024-02-02T02:57:57.703880Z",
          "iopub.status.idle": "2024-02-02T03:00:29.988681Z",
          "shell.execute_reply": "2024-02-02T03:00:29.987979Z",
          "shell.execute_reply.started": "2024-02-02T02:57:57.704129Z"
        },
        "id": "rIUmi3RhpQiW"
      },
      "outputs": [],
      "source": [
        "#(2) モデルのダウンロード（ここにダウンロードしたいモデルを追加）\n",
        "#%cd /notebooks/sd-webui-forge-classic/models/Stable-diffusion\n",
        "#!wget -nc\n"
      ]
    },
    {
      "cell_type": "code",
      "execution_count": null,
      "metadata": {
        "execution": {
          "iopub.execute_input": "2024-02-06T12:01:12.389426Z",
          "iopub.status.busy": "2024-02-06T12:01:12.388801Z",
          "iopub.status.idle": "2024-02-06T12:01:15.763647Z",
          "shell.execute_reply": "2024-02-06T12:01:15.762825Z",
          "shell.execute_reply.started": "2024-02-06T12:01:12.389399Z"
        },
        "id": "a3c-0LBjpYXe"
      },
      "outputs": [],
      "source": [
        "#(4) アップデート（アップデートが必要な時のみ実行）\n",
        "%cd /notebooks/sd-webui-forge-classic\n",
        "!git checkout master\n",
        "!git pull\n"
      ]
    }
  ],
  "metadata": {
    "colab": {
      "private_outputs": true,
      "provenance": []
    },
    "gpuClass": "standard",
    "kernelspec": {
      "display_name": "Python 3 (ipykernel)",
      "language": "python",
      "name": "python3"
    },
    "language_info": {
      "codemirror_mode": {
        "name": "ipython",
        "version": 3
      },
      "file_extension": ".py",
      "mimetype": "text/x-python",
      "name": "python",
      "nbconvert_exporter": "python",
      "pygments_lexer": "ipython3",
      "version": "3.9.16"
    }
  },
  "nbformat": 4,
  "nbformat_minor": 0
}
