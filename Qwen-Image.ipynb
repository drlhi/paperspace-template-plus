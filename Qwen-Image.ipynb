{
 "cells": [
  {
   "cell_type": "code",
   "execution_count": null,
   "id": "56ad2bc1-235a-4a43-9f5f-6690273b1e6d",
   "metadata": {},
   "outputs": [],
   "source": [
    "# インストールコマンド\n",
    "%mkdir -p /tmp\n",
    "%cd /tmp\n",
    "!git clone https://github.com/comfyanonymous/ComfyUI.git\n",
    "!python -m pip install -r /tmp/ComfyUI/requirements.txt"
   ]
  },
  {
   "cell_type": "code",
   "execution_count": null,
   "id": "ba440141-f0cb-4974-a035-ed325f521bbb",
   "metadata": {},
   "outputs": [],
   "source": [
    "# アップデートコマンド\n",
    "%cd /tmp/ComfyUI\n",
    "!git pull\n"
   ]
  },
  {
   "cell_type": "code",
   "execution_count": null,
   "id": "9ec90772",
   "metadata": {},
   "outputs": [],
   "source": [
    "#モデルのダウンロード（目的に合わせてダウンロードするモデルを選ぶことを推奨）\n",
    "%cd /tmp/ComfyUI/models/diffusion_models\n",
    "\n",
    "#bf16\n",
    "#!wget -nc https://huggingface.co/Comfy-Org/Qwen-Image_ComfyUI/resolve/main/split_files/diffusion_models/qwen_image_bf16.safetensors -O qwen_image_bf16.safetensors\n",
    "\n",
    "#fp8\n",
    "#!wget -nc https://huggingface.co/Comfy-Org/Qwen-Image_ComfyUI/resolve/main/split_files/diffusion_models/qwen_image_fp8_e4m3fn.safetensors -O qwen_image_fp8_e4m3fn.safetensors\n",
    "\n",
    "#Distilled version bf16\n",
    "#!wget -nc https://huggingface.co/Comfy-Org/Qwen-Image_ComfyUI/resolve/main/non_official/diffusion_models/qwen_image_distill_full_bf16.safetensors -O qwen_image_distill_full_bf16.safetensors\n",
    "\n",
    "#Distilled version fp8\n",
    "#!wget -nc https://huggingface.co/Comfy-Org/Qwen-Image_ComfyUI/resolve/main/non_official/diffusion_models/qwen_image_distill_full_fp8_e4m3fn.safetensors -O qwen_image_distill_full_fp8_e4m3fn.safetensors\n",
    "\n",
    "#Qwen-Image-Edit\n",
    "#!wget -nc https://huggingface.co/Comfy-Org/Qwen-Image-Edit_ComfyUI/resolve/main/split_files/diffusion_models/qwen_image_edit_fp8_e4m3fn.safetensors"
   ]
  },
  {
   "cell_type": "code",
   "execution_count": null,
   "id": "b4f69e3f",
   "metadata": {},
   "outputs": [],
   "source": [
    "#テキストエンコーダーのダウンロード\n",
    "%cd /tmp/ComfyUI/models/text_encoders\n",
    "!wget -nc https://huggingface.co/Comfy-Org/Qwen-Image_ComfyUI/resolve/main/split_files/text_encoders/qwen_2.5_vl_7b_fp8_scaled.safetensors -O qwen_2.5_vl_7b_fp8_scaled.safetensors"
   ]
  },
  {
   "cell_type": "code",
   "execution_count": null,
   "id": "9c20995d",
   "metadata": {},
   "outputs": [],
   "source": [
    "#VAEのダウンロード\n",
    "%cd /tmp/ComfyUI/models/vae\n",
    "!wget -nc https://huggingface.co/Comfy-Org/Qwen-Image_ComfyUI/resolve/main/split_files/vae/qwen_image_vae.safetensors -O qwen_image_vae.safetensors\n"
   ]
  },
  {
   "cell_type": "code",
   "execution_count": null,
   "id": "2c213298",
   "metadata": {},
   "outputs": [],
   "source": [
    "#LoRAのダウンロード\n",
    "%cd /tmp/ComfyUI/models/loras\n",
    "!wget -nc https://huggingface.co/lightx2v/Qwen-Image-Lightning/resolve/main/Qwen-Image-Lightning-8steps-V1.0.safetensors\n",
    "!wget -nc https://huggingface.co/lightx2v/Qwen-Image-Lightning/resolve/main/Qwen-Image-Lightning-4steps-V1.0.safetensors\n"
   ]
  },
  {
   "cell_type": "code",
   "execution_count": null,
   "id": "1d60c28d-35a6-47d3-830c-60f6aad7dfd7",
   "metadata": {},
   "outputs": [],
   "source": [
    "# 起動コマンド\n",
    "!pip install comfyui-frontend-package soundfile\n",
    "Args = \"--listen --port 6006 --preview-method auto --fast\"\n",
    "\n",
    "def sd():\n",
    "    import os\n",
    "    from subprocess import call\n",
    "\n",
    "    localurl = \"https://tensorboard-\" + os.environ.get('PAPERSPACE_FQDN', 'localhost')\n",
    "    call(\"sed -i 's@logging.info(\\\"To see the GUI go to: {}://{}:{}\\\".format(scheme, address, port))@print(\\\"\\033[32m\\\\u2714 Connected\\\")\\\\n            print(\\\"\" + localurl + \"\\\")@' /tmp/ComfyUI/server.py\", shell=True)\n",
    "    os.chdir('/tmp')\n",
    "    print(f\"Local URL: {localurl}\")\n",
    "\n",
    "sd()\n",
    "!python /tmp/ComfyUI/main.py $Args"
   ]
  }
 ],
 "metadata": {
  "kernelspec": {
   "display_name": "Python 3 (ipykernel)",
   "language": "python",
   "name": "python3"
  },
  "language_info": {
   "codemirror_mode": {
    "name": "ipython",
    "version": 3
   },
   "file_extension": ".py",
   "mimetype": "text/x-python",
   "name": "python",
   "nbconvert_exporter": "python",
   "pygments_lexer": "ipython3",
   "version": "3.12.8"
  }
 },
 "nbformat": 4,
 "nbformat_minor": 5
}
