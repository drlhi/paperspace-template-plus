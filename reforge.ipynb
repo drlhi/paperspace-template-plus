{
 "cells": [
  {
   "cell_type": "code",
   "execution_count": null,
   "metadata": {
    "execution": {
     "iopub.execute_input": "2024-11-25T14:35:13.424510Z",
     "iopub.status.busy": "2024-11-25T14:35:13.424231Z",
     "iopub.status.idle": "2024-11-25T14:37:12.024115Z",
     "shell.execute_reply": "2024-11-25T14:37:12.023321Z",
     "shell.execute_reply.started": "2024-11-25T14:35:13.424489Z"
    },
    "id": "qfGtMLwLpCr3"
   },
   "outputs": [],
   "source": [
    "#(3) WebUI起動\n",
    "!apt update\n",
    "!apt -y install python3.10\n",
    "!apt -y install libpython3.10-dev\n",
    "!apt -y install build-essential\n",
    "!apt -y install ffmpeg\n",
    "!curl -sS https://bootstrap.pypa.io/get-pip.py | python3.10\n",
    "#!python3.10 -m pip install setuptools==69.5.1 -U\n",
    "!python3.10 -m pip install torch==2.4.1+cu124 torchvision torchaudio torchdata torchtext xformers --index-url https://download.pytorch.org/whl/cu124 -U\n",
    "!python3.10 -m pip install httpx==0.24.1\n",
    "#!python3.10 -m pip install insightface -U\n",
    "!python3.10 -m pip install matplotlib -U\n",
    "!python3.10 -m pip install ipython -U\n",
    "from IPython import get_ipython\n",
    "get_ipython().run_line_magic('matplotlib', 'inline')\n",
    "%cd /notebooks/stable-diffusion-webui-reForge\n",
    "!python3.10 launch.py --xformers --enable-insecure-extension-access --share --gradio-queue\n"
   ]
  },
  {
   "cell_type": "code",
   "execution_count": null,
   "metadata": {
    "execution": {
     "iopub.execute_input": "2024-11-25T14:33:08.134577Z",
     "iopub.status.busy": "2024-11-25T14:33:08.134237Z",
     "iopub.status.idle": "2024-11-25T14:33:12.638028Z",
     "shell.execute_reply": "2024-11-25T14:33:12.637361Z",
     "shell.execute_reply.started": "2024-11-25T14:33:08.134547Z"
    },
    "id": "JMVf8COkpK0e"
   },
   "outputs": [],
   "source": [
    "#(1) reFORGEのダウンロード\n",
    "%cd /notebooks\n",
    "!rm -rf stable-diffusion-webui-reforge\n",
    "!git clone https://github.com/Panchovix/stable-diffusion-webui-reForge\n"
   ]
  },
  {
   "cell_type": "code",
   "execution_count": null,
   "metadata": {},
   "outputs": [],
   "source": [
    "#(2) モデルのダウンロード（ここにダウンロードしたいモデルを追加）\n",
    "%cd /notebooks/stable-diffusion-webui-reForge/models/Stable-diffusion\n",
    "!wget -nc https://civitai.com/api/download/models/1023901 –O illustriousXLPersonalMerge_v30Noob10based.safetensors"
   ]
  },
  {
   "cell_type": "code",
   "execution_count": null,
   "metadata": {
    "execution": {
     "iopub.execute_input": "2024-11-25T14:34:24.595469Z",
     "iopub.status.busy": "2024-11-25T14:34:24.594582Z",
     "iopub.status.idle": "2024-11-25T14:34:26.504243Z",
     "shell.execute_reply": "2024-11-25T14:34:26.503298Z",
     "shell.execute_reply.started": "2024-11-25T14:34:24.595439Z"
    },
    "id": "a3c-0LBjpYXe"
   },
   "outputs": [],
   "source": [
    "#(4) reFORGEアップデート（アップデートが必要な時のみ実行）\n",
    "%cd /notebooks/stable-diffusion-webui-reForge\n",
    "!git checkout main\n",
    "!git pull\n"
   ]
  }
 ],
 "metadata": {
  "colab": {
   "private_outputs": true,
   "provenance": []
  },
  "gpuClass": "standard",
  "kernelspec": {
   "display_name": "Python 3 (ipykernel)",
   "language": "python",
   "name": "python3"
  },
  "language_info": {
   "codemirror_mode": {
    "name": "ipython",
    "version": 3
   },
   "file_extension": ".py",
   "mimetype": "text/x-python",
   "name": "python",
   "nbconvert_exporter": "python",
   "pygments_lexer": "ipython3",
   "version": "3.9.16"
  }
 },
 "nbformat": 4,
 "nbformat_minor": 4
}
