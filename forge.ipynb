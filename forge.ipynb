{
 "cells": [
  {
   "cell_type": "code",
   "execution_count": null,
   "metadata": {
    "execution": {
     "iopub.execute_input": "2024-11-25T15:03:36.220238Z",
     "iopub.status.busy": "2024-11-25T15:03:36.219607Z",
     "iopub.status.idle": "2024-11-25T15:13:03.556543Z",
     "shell.execute_reply": "2024-11-25T15:13:03.555957Z",
     "shell.execute_reply.started": "2024-11-25T15:03:36.220215Z"
    },
    "id": "qfGtMLwLpCr3"
   },
   "outputs": [],
   "source": [
    "#(3) WebUI起動\n",
    "!apt update\n",
    "!apt -y install python3.10\n",
    "!apt -y install libpython3.10-dev\n",
    "!apt -y install build-essential\n",
    "!apt -y install ffmpeg\n",
    "!curl -sS https://bootstrap.pypa.io/get-pip.py | python3.10\n",
    "#!python3.10 -m pip install setuptools==69.5.1 -U\n",
    "!python3.10 -m pip install torch==2.4.1+cu124 torchvision torchaudio torchdata torchtext xformers --index-url https://download.pytorch.org/whl/cu124 -U\n",
    "!python3.10 -m pip install httpx==0.24.1\n",
    "#!python3.10 -m pip install insightface -U\n",
    "!python3.10 -m pip install matplotlib -U\n",
    "!python3.10 -m pip install ipython -U\n",
    "from IPython import get_ipython\n",
    "get_ipython().run_line_magic('matplotlib', 'inline')\n",
    "%cd /notebooks/stable-diffusion-webui-forge\n",
    "!python3.10 launch.py --xformers --enable-insecure-extension-access --share --gradio-queue\n"
   ]
  },
  {
   "cell_type": "code",
   "execution_count": null,
   "metadata": {
    "execution": {
     "iopub.execute_input": "2024-02-09T00:59:55.586596Z",
     "iopub.status.busy": "2024-02-09T00:59:55.585811Z",
     "iopub.status.idle": "2024-02-09T00:59:59.339243Z",
     "shell.execute_reply": "2024-02-09T00:59:59.338263Z",
     "shell.execute_reply.started": "2024-02-09T00:59:55.586553Z"
    },
    "id": "JMVf8COkpK0e"
   },
   "outputs": [],
   "source": [
    "#(1) FORGEのダウンロード\n",
    "%cd /notebooks\n",
    "!rm -rf stable-diffusion-webui-forge\n",
    "!git clone https://github.com/lllyasviel/stable-diffusion-webui-forge\n"
   ]
  },
  {
   "cell_type": "code",
   "execution_count": null,
   "metadata": {
    "execution": {
     "iopub.execute_input": "2024-02-09T01:13:51.549706Z",
     "iopub.status.busy": "2024-02-09T01:13:51.548849Z",
     "iopub.status.idle": "2024-02-09T01:13:58.208089Z",
     "shell.execute_reply": "2024-02-09T01:13:58.207284Z",
     "shell.execute_reply.started": "2024-02-09T01:13:51.549667Z"
    },
    "id": "rIUmi3RhpQiW"
   },
   "outputs": [],
   "source": [
    "#(2) モデルのダウンロード（ここにダウンロードしたいモデルを追加）\n",
    "%cd /notebooks/stable-diffusion-webui-forge/models/Stable-diffusion\n",
    "!wget -nc https://civitai.com/api/download/models/1023901 –O illustriousXLPersonalMerge_v30Noob10based.safetensors\n"
   ]
  },
  {
   "cell_type": "code",
   "execution_count": null,
   "metadata": {
    "execution": {
     "iopub.execute_input": "2024-02-02T04:34:39.019792Z",
     "iopub.status.busy": "2024-02-02T04:34:39.019001Z",
     "iopub.status.idle": "2024-02-02T04:34:40.264948Z",
     "shell.execute_reply": "2024-02-02T04:34:40.264260Z",
     "shell.execute_reply.started": "2024-02-02T04:34:39.019751Z"
    },
    "id": "a3c-0LBjpYXe"
   },
   "outputs": [],
   "source": [
    "#(4) FORGEアップデート（アップデートが必要な時のみ実行）\n",
    "%cd /notebooks/stable-diffusion-webui-forge\n",
    "!git checkout main\n",
    "!git pull\n"
   ]
  }
 ],
 "metadata": {
  "colab": {
   "private_outputs": true,
   "provenance": []
  },
  "gpuClass": "standard",
  "kernelspec": {
   "display_name": "Python 3 (ipykernel)",
   "language": "python",
   "name": "python3"
  },
  "language_info": {
   "codemirror_mode": {
    "name": "ipython",
    "version": 3
   },
   "file_extension": ".py",
   "mimetype": "text/x-python",
   "name": "python",
   "nbconvert_exporter": "python",
   "pygments_lexer": "ipython3",
   "version": "3.9.16"
  }
 },
 "nbformat": 4,
 "nbformat_minor": 4
}
