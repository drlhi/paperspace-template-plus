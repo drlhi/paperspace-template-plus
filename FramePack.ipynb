{
 "cells": [
  {
   "cell_type": "code",
   "execution_count": null,
   "id": "56ad2bc1-235a-4a43-9f5f-6690273b1e6d",
   "metadata": {},
   "outputs": [],
   "source": [
    "# インストールコマンド\n",
    "%mkdir -p /tmp\n",
    "%cd /tmp\n",
    "!git clone https://github.com/lllyasviel/FramePack.git\n",
    "\n",
    "!pip install --upgrade typing-extensions\n",
    "%cd /tmp/FramePack\n",
    "!pip install -r requirements.txt"
   ]
  },
  {
   "cell_type": "code",
   "execution_count": null,
   "id": "1d60c28d-35a6-47d3-830c-60f6aad7dfd7",
   "metadata": {},
   "outputs": [],
   "source": [
    "# 起動コマンド\n",
    "%cd /tmp/FramePack\n",
    "!python demo_gradio.py --share"
   ]
  }
 ],
 "metadata": {
  "kernelspec": {
   "display_name": "Python 3 (ipykernel)",
   "language": "python",
   "name": "python3"
  },
  "language_info": {
   "codemirror_mode": {
    "name": "ipython",
    "version": 3
   },
   "file_extension": ".py",
   "mimetype": "text/x-python",
   "name": "python",
   "nbconvert_exporter": "python",
   "pygments_lexer": "ipython3",
   "version": "3.12.8"
  }
 },
 "nbformat": 4,
 "nbformat_minor": 5
}
