{
 "cells": [
  {
   "cell_type": "code",
   "execution_count": null,
   "id": "56ad2bc1-235a-4a43-9f5f-6690273b1e6d",
   "metadata": {
    "execution": {
     "iopub.execute_input": "2025-04-24T09:10:22.249023Z",
     "iopub.status.busy": "2025-04-24T09:10:22.248531Z",
     "iopub.status.idle": "2025-04-24T09:10:24.588959Z",
     "shell.execute_reply": "2025-04-24T09:10:24.588325Z",
     "shell.execute_reply.started": "2025-04-24T09:10:22.249001Z"
    }
   },
   "outputs": [],
   "source": [
    "#FramePackのインストール\n",
    "%mkdir -p /tmp\n",
    "%cd /tmp\n",
    "!git clone https://github.com/lllyasviel/FramePack\n",
    "\n",
    "!pip install --upgrade typing-extensions\n",
    "%cd /tmp/FramePack\n",
    "!pip install -r requirements.txt"
   ]
  },
  {
   "cell_type": "code",
   "execution_count": null,
   "id": "2e834b38-b931-46bd-8ead-88f1e0d93cf7",
   "metadata": {
    "execution": {
     "iopub.execute_input": "2025-04-24T09:10:50.925973Z",
     "iopub.status.busy": "2025-04-24T09:10:50.925322Z",
     "iopub.status.idle": "2025-04-24T09:10:51.782596Z",
     "shell.execute_reply": "2025-04-24T09:10:51.782121Z",
     "shell.execute_reply.started": "2025-04-24T09:10:50.925951Z"
    }
   },
   "outputs": [],
   "source": [
    "#FramePack-eichiのインストール\n",
    "%cd /tmp/FramePack\n",
    "!git clone https://github.com/git-ai-code/FramePack-eichi\n",
    "%cd /tmp/FramePack/FramePack-eichi\n",
    "!mv -v /tmp/FramePack/FramePack-eichi/webui/eichi_utils /tmp/FramePack/FramePack-eichi/webui/lora_utils /tmp/FramePack/FramePack-eichi/webui/endframe_ichi.py /tmp/FramePack "
   ]
  },
  {
   "cell_type": "code",
   "execution_count": null,
   "id": "1d60c28d-35a6-47d3-830c-60f6aad7dfd7",
   "metadata": {
    "execution": {
     "iopub.execute_input": "2025-04-24T09:13:21.178940Z",
     "iopub.status.busy": "2025-04-24T09:13:21.178696Z",
     "iopub.status.idle": "2025-04-24T09:16:16.506005Z",
     "shell.execute_reply": "2025-04-24T09:16:16.505075Z",
     "shell.execute_reply.started": "2025-04-24T09:13:21.178923Z"
    }
   },
   "outputs": [],
   "source": [
    "#必要なモデルなどのインストール（一度実行して通常のFramePackの起動を確認）\n",
    "%cd /tmp/FramePack\n",
    "!python demo_gradio.py --share"
   ]
  },
  {
   "cell_type": "code",
   "execution_count": null,
   "id": "f5d1369f-fddc-4b74-9294-f89515480acc",
   "metadata": {
    "execution": {
     "iopub.execute_input": "2025-04-24T09:22:52.522169Z",
     "iopub.status.busy": "2025-04-24T09:22:52.521669Z",
     "iopub.status.idle": "2025-04-24T09:23:33.115313Z",
     "shell.execute_reply": "2025-04-24T09:23:33.114843Z",
     "shell.execute_reply.started": "2025-04-24T09:22:52.522142Z"
    }
   },
   "outputs": [],
   "source": [
    "#FramePack-eichi起動コマンド\n",
    "%cd /tmp/FramePack\n",
    "!python endframe_ichi.py --share"
   ]
  }
 ],
 "metadata": {
  "kernelspec": {
   "display_name": "Python 3 (ipykernel)",
   "language": "python",
   "name": "python3"
  },
  "language_info": {
   "codemirror_mode": {
    "name": "ipython",
    "version": 3
   },
   "file_extension": ".py",
   "mimetype": "text/x-python",
   "name": "python",
   "nbconvert_exporter": "python",
   "pygments_lexer": "ipython3",
   "version": "3.12.7"
  }
 },
 "nbformat": 4,
 "nbformat_minor": 5
}
