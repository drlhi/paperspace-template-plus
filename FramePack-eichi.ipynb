{
 "cells": [
  {
   "cell_type": "code",
   "execution_count": null,
   "id": "56ad2bc1-235a-4a43-9f5f-6690273b1e6d",
   "metadata": {
    "execution": {
     "iopub.execute_input": "2025-04-28T17:57:20.510138Z",
     "iopub.status.busy": "2025-04-28T17:57:20.509808Z",
     "iopub.status.idle": "2025-04-28T17:57:51.173865Z",
     "shell.execute_reply": "2025-04-28T17:57:51.173431Z",
     "shell.execute_reply.started": "2025-04-28T17:57:20.510119Z"
    }
   },
   "outputs": [],
   "source": [
    "#本家FramePackのインストール\n",
    "%mkdir -p /tmp\n",
    "%cd /tmp\n",
    "!git clone https://github.com/lllyasviel/FramePack\n",
    "!pip install torch torchvision torchaudio --index-url https://download.pytorch.org/whl/cu126\n",
    "!pip install --upgrade typing-extensions\n",
    "\n",
    "%cd /tmp/FramePack\n",
    "!pip install -r requirements.txt"
   ]
  },
  {
   "cell_type": "code",
   "execution_count": null,
   "id": "2e834b38-b931-46bd-8ead-88f1e0d93cf7",
   "metadata": {
    "execution": {
     "iopub.execute_input": "2025-04-28T17:58:36.545703Z",
     "iopub.status.busy": "2025-04-28T17:58:36.545254Z",
     "iopub.status.idle": "2025-04-28T17:58:36.771585Z",
     "shell.execute_reply": "2025-04-28T17:58:36.771011Z",
     "shell.execute_reply.started": "2025-04-28T17:58:36.545684Z"
    }
   },
   "outputs": [],
   "source": [
    "#FramePack-eichiのインストール\n",
    "%cd /tmp\n",
    "!git clone https://github.com/git-ai-code/FramePack-eichi\n",
    "\n",
    "%cd /tmp/FramePack-eichi\n",
    "!mv -v /tmp/FramePack-eichi/webui/* /tmp/FramePack"
   ]
  },
  {
   "cell_type": "code",
   "execution_count": null,
   "id": "1d60c28d-35a6-47d3-830c-60f6aad7dfd7",
   "metadata": {
    "execution": {
     "iopub.execute_input": "2025-04-28T17:59:03.620429Z",
     "iopub.status.busy": "2025-04-28T17:59:03.619854Z",
     "iopub.status.idle": "2025-04-28T18:03:20.517461Z",
     "shell.execute_reply": "2025-04-28T18:03:20.516798Z",
     "shell.execute_reply.started": "2025-04-28T17:59:03.620419Z"
    }
   },
   "outputs": [],
   "source": [
    "#必要なモデルなどのダウンロード（一度実行して通常のFramePackの起動を確認）\n",
    "%cd /tmp/FramePack\n",
    "!python demo_gradio.py --share"
   ]
  },
  {
   "cell_type": "code",
   "execution_count": null,
   "id": "f5d1369f-fddc-4b74-9294-f89515480acc",
   "metadata": {
    "execution": {
     "iopub.execute_input": "2025-04-28T18:34:29.808527Z",
     "iopub.status.busy": "2025-04-28T18:34:29.808285Z",
     "iopub.status.idle": "2025-04-28T18:36:24.657127Z",
     "shell.execute_reply": "2025-04-28T18:36:24.656558Z",
     "shell.execute_reply.started": "2025-04-28T18:34:29.808511Z"
    }
   },
   "outputs": [],
   "source": [
    "#FramePack-eichiの起動\n",
    "%cd /tmp/FramePack\n",
    "!python endframe_ichi.py --share"
   ]
  }
 ],
 "metadata": {
  "kernelspec": {
   "display_name": "Python 3 (ipykernel)",
   "language": "python",
   "name": "python3"
  },
  "language_info": {
   "codemirror_mode": {
    "name": "ipython",
    "version": 3
   },
   "file_extension": ".py",
   "mimetype": "text/x-python",
   "name": "python",
   "nbconvert_exporter": "python",
   "pygments_lexer": "ipython3",
   "version": "3.12.7"
  }
 },
 "nbformat": 4,
 "nbformat_minor": 5
}
