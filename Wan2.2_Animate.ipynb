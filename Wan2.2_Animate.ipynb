{
 "cells": [
  {
   "cell_type": "code",
   "execution_count": null,
   "id": "56ad2bc1-235a-4a43-9f5f-6690273b1e6d",
   "metadata": {
    "execution": {
     "iopub.execute_input": "2025-10-04T15:34:39.910918Z",
     "iopub.status.busy": "2025-10-04T15:34:39.910702Z",
     "iopub.status.idle": "2025-10-04T15:34:50.738338Z",
     "shell.execute_reply": "2025-10-04T15:34:50.737503Z",
     "shell.execute_reply.started": "2025-10-04T15:34:39.910902Z"
    }
   },
   "outputs": [],
   "source": [
    "# インストールコマンド\n",
    "!apt update\n",
    "%mkdir -p /tmp\n",
    "%cd /tmp\n",
    "!git clone https://github.com/comfyanonymous/ComfyUI.git\n",
    "!python -m pip install -r /tmp/ComfyUI/requirements.txt"
   ]
  },
  {
   "cell_type": "code",
   "execution_count": null,
   "id": "ba440141-f0cb-4974-a035-ed325f521bbb",
   "metadata": {},
   "outputs": [],
   "source": [
    "# アップデートコマンド\n",
    "%cd /tmp/ComfyUI\n",
    "!git pull\n"
   ]
  },
  {
   "cell_type": "code",
   "execution_count": null,
   "id": "9ec90772",
   "metadata": {
    "execution": {
     "iopub.execute_input": "2025-10-04T15:34:52.194091Z",
     "iopub.status.busy": "2025-10-04T15:34:52.193477Z",
     "iopub.status.idle": "2025-10-04T15:37:22.568221Z",
     "shell.execute_reply": "2025-10-04T15:37:22.567561Z",
     "shell.execute_reply.started": "2025-10-04T15:34:52.194068Z"
    }
   },
   "outputs": [],
   "source": [
    "#モデルのダウンロード\n",
    "%cd /tmp/ComfyUI/models/diffusion_models\n",
    "!wget -nc https://huggingface.co/Kijai/WanVideo_comfy_fp8_scaled/resolve/main/Wan22Animate/Wan2_2-Animate-14B_fp8_e4m3fn_scaled_KJ.safetensors\n",
    "!wget -nc https://huggingface.co/Comfy-Org/Wan_2.2_ComfyUI_Repackaged/resolve/main/split_files/diffusion_models/wan2.2_animate_14B_bf16.safetensors"
   ]
  },
  {
   "cell_type": "code",
   "execution_count": null,
   "id": "b4f69e3f",
   "metadata": {
    "execution": {
     "iopub.execute_input": "2025-10-04T15:37:22.569299Z",
     "iopub.status.busy": "2025-10-04T15:37:22.569109Z",
     "iopub.status.idle": "2025-10-04T15:37:39.548073Z",
     "shell.execute_reply": "2025-10-04T15:37:39.547427Z",
     "shell.execute_reply.started": "2025-10-04T15:37:22.569282Z"
    }
   },
   "outputs": [],
   "source": [
    "#text encodersのダウンロード\n",
    "%cd /tmp/ComfyUI/models/text_encoders\n",
    "!wget -nc https://huggingface.co/Comfy-Org/Wan_2.1_ComfyUI_repackaged/resolve/main/split_files/text_encoders/umt5_xxl_fp8_e4m3fn_scaled.safetensors"
   ]
  },
  {
   "cell_type": "code",
   "execution_count": null,
   "id": "4f0e7b31",
   "metadata": {
    "execution": {
     "iopub.execute_input": "2025-10-04T15:53:32.638876Z",
     "iopub.status.busy": "2025-10-04T15:53:32.638323Z",
     "iopub.status.idle": "2025-10-04T15:53:32.752371Z",
     "shell.execute_reply": "2025-10-04T15:53:32.751755Z",
     "shell.execute_reply.started": "2025-10-04T15:53:32.638852Z"
    }
   },
   "outputs": [],
   "source": [
    "#clip_visionのダウンロード\n",
    "%cd /tmp/ComfyUI/models/clip_vision\n",
    "!wget -nc https://huggingface.co/Comfy-Org/Wan_2.1_ComfyUI_repackaged/resolve/main/split_files/clip_vision/clip_vision_h.safetensors"
   ]
  },
  {
   "cell_type": "code",
   "execution_count": null,
   "id": "9c20995d",
   "metadata": {
    "execution": {
     "iopub.execute_input": "2025-10-04T15:37:42.488999Z",
     "iopub.status.busy": "2025-10-04T15:37:42.488811Z",
     "iopub.status.idle": "2025-10-04T15:37:43.352380Z",
     "shell.execute_reply": "2025-10-04T15:37:43.351737Z",
     "shell.execute_reply.started": "2025-10-04T15:37:42.488980Z"
    }
   },
   "outputs": [],
   "source": [
    "#VAEのダウンロード\n",
    "%cd /tmp/ComfyUI/models/vae\n",
    "!wget -nc https://huggingface.co/Comfy-Org/Wan_2.2_ComfyUI_Repackaged/resolve/main/split_files/vae/wan_2.1_vae.safetensors\n"
   ]
  },
  {
   "cell_type": "code",
   "execution_count": null,
   "id": "2c213298",
   "metadata": {
    "execution": {
     "iopub.execute_input": "2025-10-04T15:42:28.500860Z",
     "iopub.status.busy": "2025-10-04T15:42:28.500047Z",
     "iopub.status.idle": "2025-10-04T15:42:32.153410Z",
     "shell.execute_reply": "2025-10-04T15:42:32.152787Z",
     "shell.execute_reply.started": "2025-10-04T15:42:28.500836Z"
    }
   },
   "outputs": [],
   "source": [
    "#LoRAのダウンロード\n",
    "%cd /tmp/ComfyUI/models/loras\n",
    "!wget -nc https://huggingface.co/Kijai/WanVideo_comfy/resolve/main/Lightx2v/lightx2v_I2V_14B_480p_cfg_step_distill_rank64_bf16.safetensors\n",
    "!wget -nc https://huggingface.co/Kijai/WanVideo_comfy/resolve/main/LoRAs/Wan22_relight/WanAnimate_relight_lora_fp16.safetensors"
   ]
  },
  {
   "cell_type": "code",
   "execution_count": null,
   "id": "a58a1012-314c-4cde-8012-2a109dd2dad8",
   "metadata": {
    "execution": {
     "iopub.execute_input": "2025-10-04T15:37:45.306316Z",
     "iopub.status.busy": "2025-10-04T15:37:45.306149Z",
     "iopub.status.idle": "2025-10-04T15:38:05.161569Z",
     "shell.execute_reply": "2025-10-04T15:38:05.161130Z",
     "shell.execute_reply.started": "2025-10-04T15:37:45.306300Z"
    }
   },
   "outputs": [],
   "source": [
    "#カスタムノードのダウンロード\n",
    "%cd /tmp/ComfyUI/custom_nodes\n",
    "!git clone https://github.com/Comfy-Org/ComfyUI-Manager\n"
   ]
  },
  {
   "cell_type": "code",
   "execution_count": null,
   "id": "1d60c28d-35a6-47d3-830c-60f6aad7dfd7",
   "metadata": {
    "execution": {
     "iopub.execute_input": "2025-10-04T15:53:40.561422Z",
     "iopub.status.busy": "2025-10-04T15:53:40.560927Z"
    }
   },
   "outputs": [],
   "source": [
    "# 起動コマンド\n",
    "!pip install comfyui-frontend-package soundfile\n",
    "!python -m pip install sageattention\n",
    "Args = \"--listen --port 6006 --preview-method auto --fast --use-sage-attention\"\n",
    "\n",
    "def sd():\n",
    "    import os\n",
    "    from subprocess import call\n",
    "\n",
    "    localurl = \"https://tensorboard-\" + os.environ.get('PAPERSPACE_FQDN', 'localhost')\n",
    "    call(\"sed -i 's@logging.info(\\\"To see the GUI go to: {}://{}:{}\\\".format(scheme, address, port))@print(\\\"\\033[32m\\\\u2714 Connected\\\")\\\\n            print(\\\"\" + localurl + \"\\\")@' /tmp/ComfyUI/server.py\", shell=True)\n",
    "    os.chdir('/tmp')\n",
    "    print(f\"Local URL: {localurl}\")\n",
    "\n",
    "sd()\n",
    "!python /tmp/ComfyUI/main.py $Args"
   ]
  }
 ],
 "metadata": {
  "kernelspec": {
   "display_name": "Python 3 (ipykernel)",
   "language": "python",
   "name": "python3"
  },
  "language_info": {
   "codemirror_mode": {
    "name": "ipython",
    "version": 3
   },
   "file_extension": ".py",
   "mimetype": "text/x-python",
   "name": "python",
   "nbconvert_exporter": "python",
   "pygments_lexer": "ipython3",
   "version": "3.12.10"
  }
 },
 "nbformat": 4,
 "nbformat_minor": 5
}
