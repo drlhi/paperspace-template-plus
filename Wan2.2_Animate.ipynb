{
 "cells": [
  {
   "cell_type": "code",
   "execution_count": null,
   "id": "56ad2bc1-235a-4a43-9f5f-6690273b1e6d",
   "metadata": {
    "execution": {
     "iopub.execute_input": "2025-10-04T15:34:39.910918Z",
     "iopub.status.busy": "2025-10-04T15:34:39.910702Z",
     "iopub.status.idle": "2025-10-04T15:34:50.738338Z",
     "shell.execute_reply": "2025-10-04T15:34:50.737503Z",
     "shell.execute_reply.started": "2025-10-04T15:34:39.910902Z"
    }
   },
   "outputs": [],
   "source": [
    "# インストールコマンド\n",
    "!apt update\n",
    "%mkdir -p /tmp\n",
    "%cd /tmp\n",
    "!git clone https://github.com/comfyanonymous/ComfyUI.git\n",
    "!python -m pip install -r /tmp/ComfyUI/requirements.txt"
   ]
  },
  {
   "cell_type": "code",
   "execution_count": null,
   "id": "ba440141-f0cb-4974-a035-ed325f521bbb",
   "metadata": {},
   "outputs": [],
   "source": [
    "# アップデートコマンド\n",
    "%cd /tmp/ComfyUI\n",
    "!git pull\n"
   ]
  },
  {
   "cell_type": "code",
   "execution_count": null,
   "id": "9ec90772",
   "metadata": {
    "execution": {
     "iopub.execute_input": "2025-10-04T15:34:52.194091Z",
     "iopub.status.busy": "2025-10-04T15:34:52.193477Z",
     "iopub.status.idle": "2025-10-04T15:37:22.568221Z",
     "shell.execute_reply": "2025-10-04T15:37:22.567561Z",
     "shell.execute_reply.started": "2025-10-04T15:34:52.194068Z"
    }
   },
   "outputs": [],
   "source": [
    "#モデルのダウンロード\n",
    "%cd /tmp/ComfyUI/models/diffusion_models\n",
    "!wget -nc https://huggingface.co/Kijai/WanVideo_comfy_fp8_scaled/resolve/main/Wan22Animate/Wan2_2-Animate-14B_fp8_e4m3fn_scaled_KJ.safetensors\n",
    "!wget -nc https://huggingface.co/Comfy-Org/Wan_2.2_ComfyUI_Repackaged/resolve/main/split_files/diffusion_models/wan2.2_animate_14B_bf16.safetensors"
   ]
  },
  {
   "cell_type": "code",
   "execution_count": null,
   "id": "b4f69e3f",
   "metadata": {
    "execution": {
     "iopub.execute_input": "2025-10-04T15:37:22.569299Z",
     "iopub.status.busy": "2025-10-04T15:37:22.569109Z",
     "iopub.status.idle": "2025-10-04T15:37:39.548073Z",
     "shell.execute_reply": "2025-10-04T15:37:39.547427Z",
     "shell.execute_reply.started": "2025-10-04T15:37:22.569282Z"
    }
   },
   "outputs": [],
   "source": [
    "#text encodersのダウンロード\n",
    "%cd /tmp/ComfyUI/models/text_encoders\n",
    "!wget -nc https://huggingface.co/Comfy-Org/Wan_2.1_ComfyUI_repackaged/resolve/main/split_files/text_encoders/umt5_xxl_fp8_e4m3fn_scaled.safetensors"
   ]
  },
  {
   "cell_type": "code",
   "execution_count": null,
   "id": "4f0e7b31",
   "metadata": {
    "execution": {
     "iopub.execute_input": "2025-10-04T15:53:32.638876Z",
     "iopub.status.busy": "2025-10-04T15:53:32.638323Z",
     "iopub.status.idle": "2025-10-04T15:53:32.752371Z",
     "shell.execute_reply": "2025-10-04T15:53:32.751755Z",
     "shell.execute_reply.started": "2025-10-04T15:53:32.638852Z"
    }
   },
   "outputs": [],
   "source": [
    "#clip_visionのダウンロード\n",
    "%cd /tmp/ComfyUI/models/clip_vision\n",
    "!wget -nc https://huggingface.co/Comfy-Org/Wan_2.1_ComfyUI_repackaged/resolve/main/split_files/clip_vision/clip_vision_h.safetensors"
   ]
  },
  {
   "cell_type": "code",
   "execution_count": null,
   "id": "9c20995d",
   "metadata": {
    "execution": {
     "iopub.execute_input": "2025-10-04T15:37:42.488999Z",
     "iopub.status.busy": "2025-10-04T15:37:42.488811Z",
     "iopub.status.idle": "2025-10-04T15:37:43.352380Z",
     "shell.execute_reply": "2025-10-04T15:37:43.351737Z",
     "shell.execute_reply.started": "2025-10-04T15:37:42.488980Z"
    }
   },
   "outputs": [],
   "source": [
    "#VAEのダウンロード\n",
    "%cd /tmp/ComfyUI/models/vae\n",
    "!wget -nc https://huggingface.co/Comfy-Org/Wan_2.2_ComfyUI_Repackaged/resolve/main/split_files/vae/wan_2.1_vae.safetensors\n"
   ]
  },
  {
   "cell_type": "code",
   "execution_count": null,
   "id": "2c213298",
   "metadata": {
    "execution": {
     "iopub.execute_input": "2025-10-04T15:42:28.500860Z",
     "iopub.status.busy": "2025-10-04T15:42:28.500047Z",
     "iopub.status.idle": "2025-10-04T15:42:32.153410Z",
     "shell.execute_reply": "2025-10-04T15:42:32.152787Z",
     "shell.execute_reply.started": "2025-10-04T15:42:28.500836Z"
    }
   },
   "outputs": [],
   "source": [
    "#LoRAのダウンロード\n",
    "%cd /tmp/ComfyUI/models/loras\n",
    "!wget -nc https://huggingface.co/Kijai/WanVideo_comfy/resolve/main/Lightx2v/lightx2v_I2V_14B_480p_cfg_step_distill_rank64_bf16.safetensors\n",
    "!wget -nc https://huggingface.co/Kijai/WanVideo_comfy/resolve/main/LoRAs/Wan22_relight/WanAnimate_relight_lora_fp16.safetensors"
   ]
  },
  {
   "cell_type": "code",
   "execution_count": null,
   "id": "a58a1012-314c-4cde-8012-2a109dd2dad8",
   "metadata": {
    "execution": {
     "iopub.execute_input": "2025-10-04T15:37:45.306316Z",
     "iopub.status.busy": "2025-10-04T15:37:45.306149Z",
     "iopub.status.idle": "2025-10-04T15:38:05.161569Z",
     "shell.execute_reply": "2025-10-04T15:38:05.161130Z",
     "shell.execute_reply.started": "2025-10-04T15:37:45.306300Z"
    }
   },
   "outputs": [],
   "source": [
    "#カスタムノードのダウンロード\n",
    "%cd /tmp/ComfyUI/custom_nodes\n",
    "!git clone https://github.com/Comfy-Org/ComfyUI-Manager\n"
   ]
  },
  {
   "cell_type": "code",
   "execution_count": null,
   "id": "1d60c28d-35a6-47d3-830c-60f6aad7dfd7",
   "metadata": {
    "execution": {
     "iopub.execute_input": "2025-10-04T15:53:40.561422Z",
     "iopub.status.busy": "2025-10-04T15:53:40.560927Z"
    }
   },
   "outputs": [
    {
     "name": "stdout",
     "output_type": "stream",
     "text": [
      "Requirement already satisfied: comfyui-frontend-package in /usr/local/lib/python3.12/dist-packages (1.27.7)\n",
      "Requirement already satisfied: soundfile in /usr/local/lib/python3.12/dist-packages (0.13.1)\n",
      "Requirement already satisfied: cffi>=1.0 in /usr/local/lib/python3.12/dist-packages (from soundfile) (1.17.1)\n",
      "Requirement already satisfied: numpy in /usr/local/lib/python3.12/dist-packages (from soundfile) (1.26.4)\n",
      "Requirement already satisfied: pycparser in /usr/local/lib/python3.12/dist-packages (from cffi>=1.0->soundfile) (2.22)\n",
      "\u001b[33mWARNING: Running pip as the 'root' user can result in broken permissions and conflicting behaviour with the system package manager, possibly rendering your system unusable. It is recommended to use a virtual environment instead: https://pip.pypa.io/warnings/venv. Use the --root-user-action option if you know what you are doing and want to suppress this warning.\u001b[0m\u001b[33m\n",
      "\u001b[0mRequirement already satisfied: sageattention in /usr/local/lib/python3.12/dist-packages (1.0.6)\n",
      "\u001b[33mWARNING: Running pip as the 'root' user can result in broken permissions and conflicting behaviour with the system package manager, possibly rendering your system unusable. It is recommended to use a virtual environment instead: https://pip.pypa.io/warnings/venv. Use the --root-user-action option if you know what you are doing and want to suppress this warning.\u001b[0m\u001b[33m\n",
      "\u001b[0mLocal URL: https://tensorboard-nsrmwgw20f.clg07azjl.paperspacegradient.com\n",
      "[START] Security scan\n",
      "[ComfyUI-Manager] Using uv as Python module for pip operations.\n",
      "\u001b[2mUsing Python 3.12.10 environment at: /usr\u001b[0m\n",
      "[DONE] Security scan\n",
      "## ComfyUI-Manager: installing dependencies done.\n",
      "** ComfyUI startup time: 2025-10-04 15:53:42.924\n",
      "** Platform: Linux\n",
      "** Python version: 3.12.10 (main, Apr  9 2025, 08:55:05) [GCC 11.4.0]\n",
      "** Python executable: /usr/bin/python\n",
      "** ComfyUI Path: /tmp/ComfyUI\n",
      "** ComfyUI Base Folder Path: /tmp/ComfyUI\n",
      "** User directory: /tmp/ComfyUI/user\n",
      "** ComfyUI-Manager config path: /tmp/ComfyUI/user/default/ComfyUI-Manager/config.ini\n",
      "** Log path: /tmp/ComfyUI/user/comfyui.log\n",
      "\u001b[2mUsing Python 3.12.10 environment at: /usr\u001b[0m\n",
      "\u001b[2mUsing Python 3.12.10 environment at: /usr\u001b[0m\n",
      "\n",
      "Prestartup times for custom nodes:\n",
      "   0.4 seconds: /tmp/ComfyUI/custom_nodes/ComfyUI-Manager\n",
      "\n",
      "Checkpoint files will always be loaded safely.\n",
      "Total VRAM 48670 MB, total RAM 45140 MB\n",
      "pytorch version: 2.7.0+cu128\n",
      "xformers version: 0.0.30\n",
      "Enabled fp16 accumulation.\n",
      "Set vram state to: NORMAL_VRAM\n",
      "Device: cuda:0 NVIDIA RTX A6000 : cudaMallocAsync\n",
      "Using sage attention\n",
      "Python version: 3.12.10 (main, Apr  9 2025, 08:55:05) [GCC 11.4.0]\n",
      "ComfyUI version: 0.3.62\n",
      "ComfyUI frontend version: 1.27.7\n",
      "[Prompt Server] web root: /usr/local/lib/python3.12/dist-packages/comfyui_frontend_package/static\n",
      "/usr/local/lib/python3.12/dist-packages/pydantic/_internal/_fields.py:161: UserWarning: Field \"model_url\" has conflict with protected namespace \"model_\".\n",
      "\n",
      "You may be able to resolve this warning by setting `model_config['protected_namespaces'] = ()`.\n",
      "  warnings.warn(\n",
      "/usr/local/lib/python3.12/dist-packages/pydantic/_internal/_fields.py:161: UserWarning: Field \"model_name\" has conflict with protected namespace \"model_\".\n",
      "\n",
      "You may be able to resolve this warning by setting `model_config['protected_namespaces'] = ()`.\n",
      "  warnings.warn(\n",
      "/usr/local/lib/python3.12/dist-packages/pydantic/_internal/_fields.py:161: UserWarning: Field \"model_params\" has conflict with protected namespace \"model_\".\n",
      "\n",
      "You may be able to resolve this warning by setting `model_config['protected_namespaces'] = ()`.\n",
      "  warnings.warn(\n",
      "/usr/local/lib/python3.12/dist-packages/pydantic/_internal/_fields.py:161: UserWarning: Field \"model_version\" has conflict with protected namespace \"model_\".\n",
      "\n",
      "You may be able to resolve this warning by setting `model_config['protected_namespaces'] = ()`.\n",
      "  warnings.warn(\n",
      "/usr/local/lib/python3.12/dist-packages/pydantic/_internal/_fields.py:161: UserWarning: Field \"model_seed\" has conflict with protected namespace \"model_\".\n",
      "\n",
      "You may be able to resolve this warning by setting `model_config['protected_namespaces'] = ()`.\n",
      "  warnings.warn(\n",
      "### Loading: ComfyUI-Manager (V3.37)\n",
      "[ComfyUI-Manager] network_mode: public\n",
      "[ComfyUI-Manager] Since --preview-method is set, ComfyUI-Manager's preview method feature will be ignored.\n",
      "### ComfyUI Version: v0.3.62-29-gbbd68309 | Released on '2025-10-03'\n",
      "\n",
      "Import times for custom nodes:\n",
      "   0.0 seconds: /tmp/ComfyUI/custom_nodes/websocket_image_save.py\n",
      "   0.1 seconds: /tmp/ComfyUI/custom_nodes/ComfyUI-Manager\n",
      "\n",
      "[ComfyUI-Manager] default cache updated: https://raw.githubusercontent.com/ltdrdata/ComfyUI-Manager/main/extension-node-map.json\n",
      "[ComfyUI-Manager] default cache updated: https://raw.githubusercontent.com/ltdrdata/ComfyUI-Manager/main/custom-node-list.json\n",
      "[ComfyUI-Manager] default cache updated: https://raw.githubusercontent.com/ltdrdata/ComfyUI-Manager/main/github-stats.json\n",
      "[ComfyUI-Manager] default cache updated: https://raw.githubusercontent.com/ltdrdata/ComfyUI-Manager/main/alter-list.json\n",
      "[ComfyUI-Manager] default cache updated: https://raw.githubusercontent.com/ltdrdata/ComfyUI-Manager/main/model-list.json\n",
      "Context impl SQLiteImpl.\n",
      "Will assume non-transactional DDL.\n",
      "No target revision found.\n",
      "Starting server\n",
      "\n",
      "To see the GUI go to: http://0.0.0.0:6006\n",
      "To see the GUI go to: http://[::]:6006\n",
      "FETCH ComfyRegistry Data: 5/99\n",
      "FETCH ComfyRegistry Data: 10/99\n",
      "FETCH ComfyRegistry Data: 15/99\n",
      "FETCH ComfyRegistry Data: 20/99\n",
      "FETCH ComfyRegistry Data: 25/99\n",
      "FETCH ComfyRegistry Data: 30/99\n",
      "FETCH ComfyRegistry Data: 35/99\n",
      "FETCH ComfyRegistry Data: 40/99\n",
      "FETCH ComfyRegistry Data: 45/99\n",
      "FETCH ComfyRegistry Data: 50/99\n",
      "FETCH ComfyRegistry Data: 55/99\n",
      "FETCH ComfyRegistry Data: 60/99\n",
      "FETCH ComfyRegistry Data: 65/99\n",
      "FETCH ComfyRegistry Data: 70/99\n",
      "FETCH ComfyRegistry Data: 75/99\n",
      "FETCH ComfyRegistry Data: 80/99\n",
      "FETCH ComfyRegistry Data: 85/99\n",
      "FETCH ComfyRegistry Data: 90/99\n",
      "FETCH ComfyRegistry Data: 95/99\n",
      "FETCH ComfyRegistry Data [DONE]\n",
      "[ComfyUI-Manager] default cache updated: https://api.comfy.org/nodes\n",
      "FETCH DATA from: https://raw.githubusercontent.com/ltdrdata/ComfyUI-Manager/main/custom-node-list.json [DONE]\n",
      "[ComfyUI-Manager] All startup tasks have been completed.\n"
     ]
    }
   ],
   "source": [
    "# 起動コマンド\n",
    "!pip install comfyui-frontend-package soundfile\n",
    "!python -m pip install sageattention\n",
    "Args = \"--listen --port 6006 --preview-method auto --fast --use-sage-attention\"\n",
    "\n",
    "def sd():\n",
    "    import os\n",
    "    from subprocess import call\n",
    "\n",
    "    localurl = \"https://tensorboard-\" + os.environ.get('PAPERSPACE_FQDN', 'localhost')\n",
    "    call(\"sed -i 's@logging.info(\\\"To see the GUI go to: {}://{}:{}\\\".format(scheme, address, port))@print(\\\"\\033[32m\\\\u2714 Connected\\\")\\\\n            print(\\\"\" + localurl + \"\\\")@' /tmp/ComfyUI/server.py\", shell=True)\n",
    "    os.chdir('/tmp')\n",
    "    print(f\"Local URL: {localurl}\")\n",
    "\n",
    "sd()\n",
    "!python /tmp/ComfyUI/main.py $Args"
   ]
  }
 ],
 "metadata": {
  "kernelspec": {
   "display_name": "Python 3 (ipykernel)",
   "language": "python",
   "name": "python3"
  },
  "language_info": {
   "codemirror_mode": {
    "name": "ipython",
    "version": 3
   },
   "file_extension": ".py",
   "mimetype": "text/x-python",
   "name": "python",
   "nbconvert_exporter": "python",
   "pygments_lexer": "ipython3",
   "version": "3.12.10"
  }
 },
 "nbformat": 4,
 "nbformat_minor": 5
}
