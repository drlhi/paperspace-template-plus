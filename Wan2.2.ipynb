{
 "cells": [
  {
   "cell_type": "code",
   "execution_count": null,
   "id": "56ad2bc1-235a-4a43-9f5f-6690273b1e6d",
   "metadata": {
    "execution": {
     "iopub.execute_input": "2025-08-05T19:16:10.033256Z",
     "iopub.status.busy": "2025-08-05T19:16:10.033034Z",
     "iopub.status.idle": "2025-08-05T19:16:41.003054Z",
     "shell.execute_reply": "2025-08-05T19:16:41.002447Z",
     "shell.execute_reply.started": "2025-08-05T19:16:10.033241Z"
    }
   },
   "outputs": [],
   "source": [
    "# インストールコマンド\n",
    "!apt update\n",
    "%mkdir -p /tmp\n",
    "%cd /tmp\n",
    "!git clone https://github.com/comfyanonymous/ComfyUI.git\n",
    "!python -m pip install -r /tmp/ComfyUI/requirements.txt"
   ]
  },
  {
   "cell_type": "code",
   "execution_count": null,
   "id": "ba440141-f0cb-4974-a035-ed325f521bbb",
   "metadata": {},
   "outputs": [],
   "source": [
    "# アップデートコマンド\n",
    "%cd /tmp/ComfyUI\n",
    "!git pull\n"
   ]
  },
  {
   "cell_type": "code",
   "execution_count": null,
   "id": "9ec90772",
   "metadata": {
    "execution": {
     "iopub.execute_input": "2025-08-05T19:18:46.095280Z",
     "iopub.status.busy": "2025-08-05T19:18:46.095032Z",
     "iopub.status.idle": "2025-08-05T19:19:39.090161Z",
     "shell.execute_reply": "2025-08-05T19:19:39.089583Z",
     "shell.execute_reply.started": "2025-08-05T19:18:46.095266Z"
    }
   },
   "outputs": [],
   "source": [
    "#モデルのダウンロード（目的にあわせてモデルをダウンロードすることを推奨）\n",
    "%cd /tmp/ComfyUI/models/diffusion_models\n",
    "\n",
    "#t2v5B\n",
    "#!wget -nc https://huggingface.co/Comfy-Org/Wan_2.2_ComfyUI_Repackaged/resolve/main/split_files/diffusion_models/wan2.2_ti2v_5B_fp16.safetensors -O wan2.2_ti2v_5B_fp16.safetensors\n",
    "\n",
    "#t2v14B\n",
    "#!wget -nc https://huggingface.co/Comfy-Org/Wan_2.2_ComfyUI_Repackaged/resolve/main/split_files/diffusion_models/wan2.2_t2v_high_noise_14B_fp8_scaled.safetensors -O wan2.2_t2v_high_noise_14B_fp8_scaled.safetensors\n",
    "#!wget -nc https://huggingface.co/Comfy-Org/Wan_2.2_ComfyUI_Repackaged/resolve/main/split_files/diffusion_models/wan2.2_t2v_low_noise_14B_fp8_scaled.safetensors -O wan2.2_t2v_low_noise_14B_fp8_scaled.safetensors\n",
    "\n",
    "#i2v14B\n",
    "#!wget -nc https://huggingface.co/Comfy-Org/Wan_2.2_ComfyUI_Repackaged/resolve/main/split_files/diffusion_models/wan2.2_i2v_high_noise_14B_fp16.safetensors -O wan2.2_i2v_high_noise_14B_fp8_scaled.safetensors\n",
    "#!wget -nc https://huggingface.co/Comfy-Org/Wan_2.2_ComfyUI_Repackaged/resolve/main/split_files/diffusion_models/wan2.2_i2v_low_noise_14B_fp16.safetensors -O wan2.2_i2v_low_noise_14B_fp8_scaled.safetensors\n",
    "\n",
    "#i2v14B GGUF\n",
    "#!wget -nc https://huggingface.co/bullerwins/Wan2.2-I2V-A14B-GGUF/resolve/main/wan2.2_i2v_high_noise_14B_Q4_K_M.gguf -O wan2.2_i2v_high_noise_14B_Q4_K_M.gguf\n",
    "#!wget -nc https://huggingface.co/bullerwins/Wan2.2-I2V-A14B-GGUF/resolve/main/wan2.2_i2v_low_noise_14B_Q4_K_M.gguf -O wan2.2_i2v_low_noise_14B_Q4_K_M.gguf\n",
    "\n",
    "#i2v14B GGUF Q8\n",
    "#!wget -nc https://huggingface.co/bullerwins/Wan2.2-I2V-A14B-GGUF/resolve/main/wan2.2_i2v_high_noise_14B_Q8_0.gguf -O wan2.2_i2v_high_noise_14B_Q8_0.gguf\n",
    "#!wget -nc https://huggingface.co/bullerwins/Wan2.2-I2V-A14B-GGUF/resolve/main/wan2.2_i2v_low_noise_14B_Q8_0.gguf -O wan2.2_i2v_low_noise_14B_Q8_0.gguf\n",
    "\n",
    "#i2v Lightning-GGUF\n",
    "#!wget -nc https://huggingface.co/Zuntan/Wan22-I2V_A14B-Lightning-GGUF/resolve/main/Wan22-I2V_A14B-Lightning-H-Q8_0.gguf -O Wan22-I2V_A14B-Lightning-H-Q8_0.gguf\n",
    "#!wget -nc https://huggingface.co/Zuntan/Wan22-I2V_A14B-Lightning-GGUF/resolve/main/Wan22-I2V_A14B-Lightning-L-Q8_0.gguf -O Wan22-I2V_A14B-Lightning-L-Q8_0.gguf"
   ]
  },
  {
   "cell_type": "code",
   "execution_count": null,
   "id": "b4f69e3f",
   "metadata": {
    "execution": {
     "iopub.execute_input": "2025-08-05T19:19:52.800521Z",
     "iopub.status.busy": "2025-08-05T19:19:52.800326Z",
     "iopub.status.idle": "2025-08-05T19:20:08.823908Z",
     "shell.execute_reply": "2025-08-05T19:20:08.823301Z",
     "shell.execute_reply.started": "2025-08-05T19:19:52.800501Z"
    }
   },
   "outputs": [],
   "source": [
    "#text encodersのダウンロード\n",
    "%cd /tmp/ComfyUI/models/text_encoders\n",
    "!wget -nc https://huggingface.co/Comfy-Org/Wan_2.1_ComfyUI_repackaged/resolve/main/split_files/text_encoders/umt5_xxl_fp8_e4m3fn_scaled.safetensors -O umt5_xxl_fp8_e4m3fn_scaled.safetensors"
   ]
  },
  {
   "cell_type": "code",
   "execution_count": null,
   "id": "9c20995d",
   "metadata": {
    "execution": {
     "iopub.execute_input": "2025-08-05T19:20:19.882318Z",
     "iopub.status.busy": "2025-08-05T19:20:19.881953Z",
     "iopub.status.idle": "2025-08-05T19:20:24.892590Z",
     "shell.execute_reply": "2025-08-05T19:20:24.892079Z",
     "shell.execute_reply.started": "2025-08-05T19:20:19.882313Z"
    }
   },
   "outputs": [],
   "source": [
    "#VAEのダウンロード\n",
    "%cd /tmp/ComfyUI/models/vae\n",
    "!wget -nc https://huggingface.co/Comfy-Org/Wan_2.2_ComfyUI_Repackaged/resolve/main/split_files/vae/wan_2.1_vae.safetensors -O wan_2.1_vae.safetensors\n",
    "!wget -nc https://huggingface.co/Comfy-Org/Wan_2.2_ComfyUI_Repackaged/resolve/main/split_files/vae/wan2.2_vae.safetensors -O wan2.2_vae.safetensors\n"
   ]
  },
  {
   "cell_type": "code",
   "execution_count": null,
   "id": "2c213298",
   "metadata": {
    "execution": {
     "iopub.execute_input": "2025-08-05T22:29:36.764112Z",
     "iopub.status.busy": "2025-08-05T22:29:36.763627Z",
     "iopub.status.idle": "2025-08-05T22:29:55.590601Z",
     "shell.execute_reply": "2025-08-05T22:29:55.590101Z",
     "shell.execute_reply.started": "2025-08-05T22:29:36.764092Z"
    }
   },
   "outputs": [],
   "source": [
    "#LoRAのダウンロード（目的にあわせてLoRAをダウンロードすることを推奨）\n",
    "%cd /tmp/ComfyUI/models/loras\n",
    "#!wget -nc https://huggingface.co/Kijai/WanVideo_comfy/resolve/main/Lightx2v/lightx2v_I2V_14B_480p_cfg_step_distill_rank128_bf16.safetensors –O lightx2v_I2V_14B_480p_cfg_step_distill_rank128_bf16.safetensors \n",
    "#!wget -nc https://civitai.com/api/download/models/2073605 -O NSFW-22-H-e8.safetensors\n",
    "#!wget -nc https://civitai.com/api/download/models/2083303 -O NSFW-22-L-e8.safetensors\n"
   ]
  },
  {
   "cell_type": "code",
   "execution_count": null,
   "id": "a58a1012-314c-4cde-8012-2a109dd2dad8",
   "metadata": {
    "execution": {
     "iopub.execute_input": "2025-08-05T19:21:39.433223Z",
     "iopub.status.busy": "2025-08-05T19:21:39.432745Z",
     "iopub.status.idle": "2025-08-05T19:21:46.546322Z",
     "shell.execute_reply": "2025-08-05T19:21:46.545695Z",
     "shell.execute_reply.started": "2025-08-05T19:21:39.433203Z"
    }
   },
   "outputs": [],
   "source": [
    "#カスタムノードのダウンロード\n",
    "%cd /tmp/ComfyUI/custom_nodes\n",
    "!git clone https://github.com/Comfy-Org/ComfyUI-Manager\n"
   ]
  },
  {
   "cell_type": "code",
   "execution_count": null,
   "id": "1d60c28d-35a6-47d3-830c-60f6aad7dfd7",
   "metadata": {
    "execution": {
     "iopub.execute_input": "2025-08-05T22:30:07.037327Z",
     "iopub.status.busy": "2025-08-05T22:30:07.036841Z"
    }
   },
   "outputs": [],
   "source": [
    "# 起動コマンド\n",
    "!pip install comfyui-frontend-package soundfile\n",
    "!python -m pip install sageattention\n",
    "Args = \"--listen --port 6006 --preview-method auto --fast --use-sage-attention\"\n",
    "\n",
    "def sd():\n",
    "    import os\n",
    "    from subprocess import call\n",
    "\n",
    "    localurl = \"https://tensorboard-\" + os.environ.get('PAPERSPACE_FQDN', 'localhost')\n",
    "    call(\"sed -i 's@logging.info(\\\"To see the GUI go to: {}://{}:{}\\\".format(scheme, address, port))@print(\\\"\\033[32m\\\\u2714 Connected\\\")\\\\n            print(\\\"\" + localurl + \"\\\")@' /tmp/ComfyUI/server.py\", shell=True)\n",
    "    os.chdir('/tmp')\n",
    "    print(f\"Local URL: {localurl}\")\n",
    "\n",
    "sd()\n",
    "!python /tmp/ComfyUI/main.py $Args"
   ]
  }
 ],
 "metadata": {
  "kernelspec": {
   "display_name": "Python 3 (ipykernel)",
   "language": "python",
   "name": "python3"
  },
  "language_info": {
   "codemirror_mode": {
    "name": "ipython",
    "version": 3
   },
   "file_extension": ".py",
   "mimetype": "text/x-python",
   "name": "python",
   "nbconvert_exporter": "python",
   "pygments_lexer": "ipython3",
   "version": "3.12.10"
  }
 },
 "nbformat": 4,
 "nbformat_minor": 5
}
