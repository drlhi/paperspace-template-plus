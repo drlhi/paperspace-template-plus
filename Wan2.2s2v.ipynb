{
 "cells": [
  {
   "cell_type": "code",
   "execution_count": null,
   "id": "56ad2bc1-235a-4a43-9f5f-6690273b1e6d",
   "metadata": {
    "execution": {
     "iopub.execute_input": "2025-09-02T09:33:53.962556Z",
     "iopub.status.busy": "2025-09-02T09:33:53.962325Z",
     "iopub.status.idle": "2025-09-02T09:34:04.159324Z",
     "shell.execute_reply": "2025-09-02T09:34:04.158678Z",
     "shell.execute_reply.started": "2025-09-02T09:33:53.962540Z"
    }
   },
   "outputs": [],
   "source": [
    "# インストールコマンド\n",
    "!apt update\n",
    "%mkdir -p /tmp\n",
    "%cd /tmp\n",
    "!git clone https://github.com/comfyanonymous/ComfyUI.git\n",
    "!python -m pip install -r /tmp/ComfyUI/requirements.txt"
   ]
  },
  {
   "cell_type": "code",
   "execution_count": null,
   "id": "ba440141-f0cb-4974-a035-ed325f521bbb",
   "metadata": {},
   "outputs": [],
   "source": [
    "# アップデートコマンド\n",
    "%cd /tmp/ComfyUI\n",
    "!git pull\n"
   ]
  },
  {
   "cell_type": "code",
   "execution_count": null,
   "id": "9ec90772",
   "metadata": {
    "execution": {
     "iopub.execute_input": "2025-09-02T09:34:12.049282Z",
     "iopub.status.busy": "2025-09-02T09:34:12.048528Z",
     "iopub.status.idle": "2025-09-02T09:35:51.725591Z",
     "shell.execute_reply": "2025-09-02T09:35:51.725005Z",
     "shell.execute_reply.started": "2025-09-02T09:34:12.049256Z"
    }
   },
   "outputs": [],
   "source": [
    "#モデルのダウンロード\n",
    "%cd /tmp/ComfyUI/models/diffusion_models\n",
    "!wget -nc https://huggingface.co/Comfy-Org/Wan_2.2_ComfyUI_Repackaged/resolve/main/split_files/diffusion_models/wan2.2_s2v_14B_fp8_scaled.safetensors\n",
    "!wget -nc https://huggingface.co/Comfy-Org/Wan_2.2_ComfyUI_Repackaged/resolve/main/split_files/diffusion_models/wan2.2_s2v_14B_bf16.safetensors"
   ]
  },
  {
   "cell_type": "code",
   "execution_count": null,
   "id": "b4f69e3f",
   "metadata": {
    "execution": {
     "iopub.execute_input": "2025-09-02T09:35:52.889867Z",
     "iopub.status.busy": "2025-09-02T09:35:52.889355Z",
     "iopub.status.idle": "2025-09-02T09:36:08.068478Z",
     "shell.execute_reply": "2025-09-02T09:36:08.067863Z",
     "shell.execute_reply.started": "2025-09-02T09:35:52.889845Z"
    }
   },
   "outputs": [],
   "source": [
    "#text encodersのダウンロード\n",
    "%cd /tmp/ComfyUI/models/text_encoders\n",
    "!wget -nc https://huggingface.co/Comfy-Org/Wan_2.1_ComfyUI_repackaged/resolve/main/split_files/text_encoders/umt5_xxl_fp8_e4m3fn_scaled.safetensors"
   ]
  },
  {
   "cell_type": "code",
   "execution_count": null,
   "id": "9c20995d",
   "metadata": {
    "execution": {
     "iopub.execute_input": "2025-09-02T09:36:08.070205Z",
     "iopub.status.busy": "2025-09-02T09:36:08.069484Z",
     "iopub.status.idle": "2025-09-02T09:36:08.731909Z",
     "shell.execute_reply": "2025-09-02T09:36:08.731144Z",
     "shell.execute_reply.started": "2025-09-02T09:36:08.070183Z"
    }
   },
   "outputs": [],
   "source": [
    "#VAEのダウンロード\n",
    "%cd /tmp/ComfyUI/models/vae\n",
    "!wget -nc https://huggingface.co/Comfy-Org/Wan_2.2_ComfyUI_Repackaged/resolve/main/split_files/vae/wan_2.1_vae.safetensors\n"
   ]
  },
  {
   "cell_type": "code",
   "execution_count": null,
   "id": "883ace19-a0de-49f4-b4aa-87c1da592a4e",
   "metadata": {
    "execution": {
     "iopub.execute_input": "2025-09-02T09:41:16.704562Z",
     "iopub.status.busy": "2025-09-02T09:41:16.704337Z",
     "iopub.status.idle": "2025-09-02T09:41:19.268592Z",
     "shell.execute_reply": "2025-09-02T09:41:19.268034Z",
     "shell.execute_reply.started": "2025-09-02T09:41:16.704545Z"
    }
   },
   "outputs": [],
   "source": [
    "#LoRAをダウンロード\n",
    "%cd /tmp/ComfyUI/models/loras\n",
    "!wget -nc https://huggingface.co/Comfy-Org/Wan_2.2_ComfyUI_Repackaged/resolve/main/split_files/loras/wan2.2_t2v_lightx2v_4steps_lora_v1.1_high_noise.safetensors"
   ]
  },
  {
   "cell_type": "code",
   "execution_count": null,
   "id": "2c213298",
   "metadata": {
    "execution": {
     "iopub.execute_input": "2025-09-02T09:36:37.582472Z",
     "iopub.status.busy": "2025-09-02T09:36:37.582231Z",
     "iopub.status.idle": "2025-09-02T09:36:39.783962Z",
     "shell.execute_reply": "2025-09-02T09:36:39.783300Z",
     "shell.execute_reply.started": "2025-09-02T09:36:37.582453Z"
    }
   },
   "outputs": [],
   "source": [
    "#audio_encodersのダウンロード\n",
    "#%mkdir /tmp/ComfyUI/models audio_encoders\n",
    "%cd /tmp/ComfyUI/models/audio_encoders\n",
    "!wget -nc https://huggingface.co/Comfy-Org/Wan_2.2_ComfyUI_Repackaged/resolve/main/split_files/audio_encoders/wav2vec2_large_english_fp16.safetensors\n"
   ]
  },
  {
   "cell_type": "code",
   "execution_count": null,
   "id": "a58a1012-314c-4cde-8012-2a109dd2dad8",
   "metadata": {
    "execution": {
     "iopub.execute_input": "2025-09-02T09:36:57.236832Z",
     "iopub.status.busy": "2025-09-02T09:36:57.236331Z",
     "iopub.status.idle": "2025-09-02T09:37:03.467266Z",
     "shell.execute_reply": "2025-09-02T09:37:03.466724Z",
     "shell.execute_reply.started": "2025-09-02T09:36:57.236812Z"
    }
   },
   "outputs": [],
   "source": [
    "#カスタムノードのダウンロード\n",
    "%cd /tmp/ComfyUI/custom_nodes\n",
    "!git clone https://github.com/Comfy-Org/ComfyUI-Manager\n"
   ]
  },
  {
   "cell_type": "code",
   "execution_count": null,
   "id": "1d60c28d-35a6-47d3-830c-60f6aad7dfd7",
   "metadata": {
    "execution": {
     "iopub.execute_input": "2025-09-02T09:41:33.599766Z",
     "iopub.status.busy": "2025-09-02T09:41:33.599303Z"
    }
   },
   "outputs": [],
   "source": [
    "# 起動コマンド\n",
    "!pip install comfyui-frontend-package soundfile\n",
    "!python -m pip install sageattention\n",
    "Args = \"--listen --port 6006 --preview-method auto --fast --use-sage-attention\"\n",
    "\n",
    "def sd():\n",
    "    import os\n",
    "    from subprocess import call\n",
    "\n",
    "    localurl = \"https://tensorboard-\" + os.environ.get('PAPERSPACE_FQDN', 'localhost')\n",
    "    call(\"sed -i 's@logging.info(\\\"To see the GUI go to: {}://{}:{}\\\".format(scheme, address, port))@print(\\\"\\033[32m\\\\u2714 Connected\\\")\\\\n            print(\\\"\" + localurl + \"\\\")@' /tmp/ComfyUI/server.py\", shell=True)\n",
    "    os.chdir('/tmp')\n",
    "    print(f\"Local URL: {localurl}\")\n",
    "\n",
    "sd()\n",
    "!python /tmp/ComfyUI/main.py $Args"
   ]
  }
 ],
 "metadata": {
  "kernelspec": {
   "display_name": "Python 3 (ipykernel)",
   "language": "python",
   "name": "python3"
  },
  "language_info": {
   "codemirror_mode": {
    "name": "ipython",
    "version": 3
   },
   "file_extension": ".py",
   "mimetype": "text/x-python",
   "name": "python",
   "nbconvert_exporter": "python",
   "pygments_lexer": "ipython3",
   "version": "3.12.10"
  }
 },
 "nbformat": 4,
 "nbformat_minor": 5
}
