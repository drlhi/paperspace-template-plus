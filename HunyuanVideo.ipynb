{
 "cells": [
  {
   "cell_type": "markdown",
   "metadata": {},
   "source": [
    "最初に熟読 https://comfyanonymous.github.io/ComfyUI_examples/hunyuan_video/"
   ]
  },
  {
   "cell_type": "markdown",
   "metadata": {},
   "source": [
    "次にこちらを参考にDockerイメージを導入 https://note.com/gentle_murre488/n/n607270034237"
   ]
  },
  {
   "cell_type": "code",
   "execution_count": null,
   "metadata": {
    "execution": {
     "iopub.execute_input": "2025-01-07T06:56:42.326774Z",
     "iopub.status.busy": "2025-01-07T06:56:42.325853Z",
     "iopub.status.idle": "2025-01-07T07:12:39.331861Z",
     "shell.execute_reply": "2025-01-07T07:12:39.331419Z",
     "shell.execute_reply.started": "2025-01-07T06:56:42.326742Z"
    },
    "id": "qfGtMLwLpCr3"
   },
   "outputs": [],
   "source": [
    "#(5) ComfyUI起動\n",
    "%cd /notebooks/ComfyUI\n",
    "!python3 main.py\n"
   ]
  },
  {
   "cell_type": "markdown",
   "metadata": {},
   "source": [
    "ComfyUI起動後にTerminalsでssh -p 443 -R0:localhost:8188 a.pinggy.ioを実行\n",
    "※自己責任"
   ]
  },
  {
   "cell_type": "code",
   "execution_count": null,
   "metadata": {
    "execution": {
     "iopub.execute_input": "2025-01-07T06:13:16.247557Z",
     "iopub.status.busy": "2025-01-07T06:13:16.247008Z",
     "iopub.status.idle": "2025-01-07T06:13:19.315362Z",
     "shell.execute_reply": "2025-01-07T06:13:19.314832Z",
     "shell.execute_reply.started": "2025-01-07T06:13:16.247538Z"
    },
    "id": "JMVf8COkpK0e"
   },
   "outputs": [],
   "source": [
    "#(1) ComfyUIのダウンロード\n",
    "%cd /notebooks\n",
    "!rm -rf ComfyUI\n",
    "!git clone https://github.com/comfyanonymous/ComfyUI.git\n"
   ]
  },
  {
   "cell_type": "code",
   "execution_count": null,
   "metadata": {
    "execution": {
     "iopub.execute_input": "2025-01-07T06:42:44.609141Z",
     "iopub.status.busy": "2025-01-07T06:42:44.608563Z",
     "iopub.status.idle": "2025-01-07T06:52:55.620347Z",
     "shell.execute_reply": "2025-01-07T06:52:55.619830Z",
     "shell.execute_reply.started": "2025-01-07T06:42:44.609123Z"
    },
    "id": "rIUmi3RhpQiW"
   },
   "outputs": [],
   "source": [
    "#(2) モデルのダウンロード\n",
    "%cd /notebooks/ComfyUI/models/diffusion_models\n",
    "!wget -nc https://huggingface.co/Comfy-Org/HunyuanVideo_repackaged/resolve/main/split_files/diffusion_models/hunyuan_video_t2v_720p_bf16.safetensors -O hunyuan_video_t2v_720p_bf16.safetensors"
   ]
  },
  {
   "cell_type": "code",
   "execution_count": null,
   "metadata": {
    "execution": {
     "iopub.execute_input": "2025-01-07T06:42:44.609141Z",
     "iopub.status.busy": "2025-01-07T06:42:44.608563Z",
     "iopub.status.idle": "2025-01-07T06:52:55.620347Z",
     "shell.execute_reply": "2025-01-07T06:52:55.619830Z",
     "shell.execute_reply.started": "2025-01-07T06:42:44.609123Z"
    },
    "id": "rIUmi3RhpQiW"
   },
   "outputs": [],
   "source": [
    "#(3) clipとtext encodersのダウンロード\n",
    "\n",
    "%cd /notebooks/ComfyUI/models/clip\n",
    "!wget -nc https://huggingface.co/Comfy-Org/HunyuanVideo_repackaged/resolve/main/split_files/text_encoders/clip_l.safetensors –O clip_l.safetensors\n",
    "\n",
    "%cd /notebooks/ComfyUI/models/text_encoders\n",
    "!wget -nc https://huggingface.co/Comfy-Org/HunyuanVideo_repackaged/resolve/main/split_files/text_encoders/llava_llama3_fp8_scaled.safetensors –O llava_llama3_fp8_scaled.safetensors"
   ]
  },
  {
   "cell_type": "code",
   "execution_count": null,
   "metadata": {
    "execution": {
     "iopub.execute_input": "2025-01-07T06:32:06.152240Z",
     "iopub.status.busy": "2025-01-07T06:32:06.151492Z",
     "iopub.status.idle": "2025-01-07T06:32:17.888115Z",
     "shell.execute_reply": "2025-01-07T06:32:17.887507Z",
     "shell.execute_reply.started": "2025-01-07T06:32:06.152220Z"
    },
    "id": "rIUmi3RhpQiW"
   },
   "outputs": [],
   "source": [
    "#(4) VAEのダウンロード\n",
    "%cd /notebooks/ComfyUI/models/vae\n",
    "!wget -nc https://huggingface.co/Comfy-Org/HunyuanVideo_repackaged/resolve/main/split_files/vae/hunyuan_video_vae_bf16.safetensors -O hunyuan_video_vae_bf16.safetensors\n"
   ]
  },
  {
   "cell_type": "code",
   "execution_count": null,
   "metadata": {
    "execution": {
     "iopub.execute_input": "2024-02-06T12:01:12.389426Z",
     "iopub.status.busy": "2024-02-06T12:01:12.388801Z",
     "iopub.status.idle": "2024-02-06T12:01:15.763647Z",
     "shell.execute_reply": "2024-02-06T12:01:15.762825Z",
     "shell.execute_reply.started": "2024-02-06T12:01:12.389399Z"
    },
    "id": "a3c-0LBjpYXe"
   },
   "outputs": [],
   "source": [
    "#(6) ComfyUIアップデート（アップデートが必要な時のみ実行）\n",
    "%cd /notebooks/ComfyUI\n",
    "!git checkout master\n",
    "!git pull\n"
   ]
  }
 ],
 "metadata": {
  "colab": {
   "private_outputs": true,
   "provenance": []
  },
  "gpuClass": "standard",
  "kernelspec": {
   "display_name": "Python 3 (ipykernel)",
   "language": "python",
   "name": "python3"
  },
  "language_info": {
   "codemirror_mode": {
    "name": "ipython",
    "version": 3
   },
   "file_extension": ".py",
   "mimetype": "text/x-python",
   "name": "python",
   "nbconvert_exporter": "python",
   "pygments_lexer": "ipython3",
   "version": "3.12.7"
  }
 },
 "nbformat": 4,
 "nbformat_minor": 4
}
